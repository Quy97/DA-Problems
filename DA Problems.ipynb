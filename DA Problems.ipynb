{
 "cells": [
  {
   "cell_type": "code",
   "execution_count": 1,
   "id": "25736a3e",
   "metadata": {},
   "outputs": [],
   "source": [
    "import numpy as np\n",
    "import math\n",
    "import matplotlib.pyplot as plt\n",
    "from matplotlib.animation import FuncAnimation "
   ]
  },
  {
   "cell_type": "code",
   "execution_count": 2,
   "id": "51f95d29",
   "metadata": {},
   "outputs": [],
   "source": [
    "num_var = 3"
   ]
  },
  {
   "cell_type": "code",
   "execution_count": 3,
   "id": "2a7a2241",
   "metadata": {},
   "outputs": [],
   "source": [
    "def runge_kutta_1(f,tspan,y0,h):\n",
    "    x = np.linspace(tspan[0],tspan[1],int((tspan[1]- tspan[0])/h))\n",
    "    y = np.zeros((len(x),num_var))\n",
    "    y[0,:] = y0\n",
    "    for i in range(len(x)-1):\n",
    "        k_1 = np.array(f(x[i],y[i,:]))\n",
    "        y[i+1,:] = y[i,:] + k_1*h\n",
    "    return x,y"
   ]
  },
  {
   "cell_type": "code",
   "execution_count": 4,
   "id": "e9dda74e",
   "metadata": {},
   "outputs": [],
   "source": [
    "def runge_kutta_2(f,tspan,y0,h):\n",
    "    x = np.linspace(tspan[0],tspan[1],int((tspan[1]- tspan[0])/h))\n",
    "    y = np.zeros((len(x),3))\n",
    "    y[0,:] = y0\n",
    "    for i in range(len(x)-1):\n",
    "        k_1 = np.array(f(x[i],y[i,:]))\n",
    "        k_2 = np.array(f(x[i] + h,  y[i,:] + h*k_1))\n",
    "        y[i+1,:] = y[i,:] + (1/2)*(k_1 + k_2)*h\n",
    "    return x,y"
   ]
  },
  {
   "cell_type": "code",
   "execution_count": 5,
   "id": "075e425d",
   "metadata": {},
   "outputs": [],
   "source": [
    "def runge_kutta_3(f,tspan,y0,h):\n",
    "    x = np.linspace(tspan[0],tspan[1],int((tspan[1]- tspan[0])/h))\n",
    "    y = np.zeros((len(x),3))\n",
    "    y[0,:] = y0\n",
    "    for i in range(len(x)-1):\n",
    "        k_1 = np.array(f(x[i],y[i,:]))\n",
    "        k_2 = np.array(f(x[i] + 0.5*h,  y[i,:] + 0.5*h*k_1))\n",
    "        k_3 = np.array(f((x[i] + h),  (y[i,:] - h*k_1 + 2*h*k_2)))\n",
    "        y[i+1,:] = y[i,:] + (1/6)*(k_1+4*k_2+k_3)*h\n",
    "    return x,y"
   ]
  },
  {
   "cell_type": "code",
   "execution_count": 6,
   "id": "3523605f",
   "metadata": {},
   "outputs": [],
   "source": [
    "def runge_kutta_4(f,tspan,y0,h):\n",
    "    x = np.linspace(tspan[0],tspan[1],int((tspan[1]- tspan[0])/h))\n",
    "    y = np.zeros((len(x),num_var))\n",
    "    y[0,:] = y0\n",
    "    for i in range(len(x)-1):\n",
    "        k_1 = np.array(f(x[i],y[i,:]))\n",
    "        k_2 = np.array(f(x[i]+0.5*h,  y[i,:]+0.5*h*k_1))\n",
    "        k_3 = np.array(f((x[i]+0.5*h),  (y[i,:]+0.5*h*k_2)))\n",
    "        k_4 = np.array(f((x[i]+h),  (y[i,:]+k_3*h)))\n",
    "        y[i+1,:] = y[i,:] + (1/6)*(k_1+2*k_2+2*k_3+k_4)*h\n",
    "    return x,y"
   ]
  },
  {
   "cell_type": "code",
   "execution_count": 8,
   "id": "254b8d85",
   "metadata": {},
   "outputs": [],
   "source": [
    "def Find_u(z,alpha):\n",
    "    b = z[0]\n",
    "    c = z[1]\n",
    "    \n",
    "    x_start = 0\n",
    "    x_end = 1\n",
    "    x = x_start\n",
    "    \n",
    "    u = 0\n",
    "    v = alpha\n",
    "    \n",
    "    N = 1000\n",
    "    delta = (x_end-x_start)/N\n",
    "    for i in range(N):\n",
    "        u = u + delta*v\n",
    "        v = v + delta*(c/b*v - 1/b *((math.pi)**2*(math.sin((math.pi)*x)) + math.pi*math.cos((math.pi)*x)))\n",
    "        x = x + delta\n",
    "    u1 = u\n",
    "    return u1"
   ]
  },
  {
   "cell_type": "code",
   "execution_count": 9,
   "id": "f60052d8",
   "metadata": {},
   "outputs": [],
   "source": [
    "from sympy import symbols, solve\n",
    "\n",
    "def initialvalue(z):\n",
    "    x = symbols('x')\n",
    "    f = Find_u(z,x)\n",
    "    sol = solve(f)\n",
    "    return sol"
   ]
  },
  {
   "cell_type": "code",
   "execution_count": 18,
   "id": "31561c77",
   "metadata": {},
   "outputs": [],
   "source": [
    "def SOL_PDE_UV(z):\n",
    "    b = z[0]\n",
    "    c = z[1]\n",
    "    \n",
    "    x_start = 0\n",
    "    x_end = 1\n",
    "    x = x_start\n",
    "    alpha = initialvalue(z)[0]\n",
    "    \n",
    "    U = []\n",
    "    V = []\n",
    "    u = 0\n",
    "    v = alpha\n",
    "    \n",
    "    N = 1000\n",
    "    delta = (x_end-x_start)/N\n",
    "    for i in range(N):\n",
    "        U.append(u)\n",
    "        V.append(v)\n",
    "        u = u + delta*v\n",
    "        v = v + delta*(c/b*v - (math.pi**2*math.sin(math.pi*x) + math.pi*math.cos(math.pi*x))/b)\n",
    "        x = x + delta\n",
    "    return U,V"
   ]
  },
  {
   "cell_type": "code",
   "execution_count": 21,
   "id": "71f460a3",
   "metadata": {},
   "outputs": [],
   "source": [
    "def Find_p(z,alpha):\n",
    "    b = z[0]\n",
    "    c = z[1]\n",
    "    \n",
    "    U,V = SOL_PDE_UV([1,1])\n",
    "    \n",
    "    x_start = 0\n",
    "    x_end = 1\n",
    "    x = x_start\n",
    "    \n",
    "    p = 0\n",
    "    q = alpha\n",
    "    \n",
    "    N = 1000\n",
    "    delta = (x_end-x_start)/N\n",
    "    for i in range(N):\n",
    "        p = p + delta*q\n",
    "        q = q + delta*(-c/b*q - (U[i] - math.sin(math.pi*x))/b)\n",
    "        x = x + delta\n",
    "    p1 = p\n",
    "    return p1"
   ]
  },
  {
   "cell_type": "code",
   "execution_count": 22,
   "id": "b6455853",
   "metadata": {},
   "outputs": [],
   "source": [
    "def initialvalue_p(z):\n",
    "    x = symbols('x')\n",
    "    f = Find_p(z,x)\n",
    "    sol = solve(f)\n",
    "    return sol"
   ]
  },
  {
   "cell_type": "code",
   "execution_count": 26,
   "id": "8151a9db",
   "metadata": {},
   "outputs": [],
   "source": [
    "def SOL_PDE_PQ(z):\n",
    "    b = z[0]\n",
    "    c = z[1]\n",
    "    \n",
    "    x_start = 0\n",
    "    x_end = 1\n",
    "    x = x_start\n",
    "    alpha = initialvalue_p(z)[0]\n",
    "    U,V = SOL_PDE_UV(z)\n",
    "    \n",
    "    P = []\n",
    "    Q = []\n",
    "    p = 0\n",
    "    q = alpha\n",
    "    \n",
    "    N = 1000\n",
    "    delta = (x_end-x_start)/N\n",
    "    for i in range(N):\n",
    "        P.append(p)\n",
    "        Q.append(q)\n",
    "        p = p + delta*q\n",
    "        q = q + delta*(-c/b*q - (U[i] - math.sin(math.pi*x))/b)\n",
    "        x = x + delta\n",
    "    return P,Q"
   ]
  },
  {
   "cell_type": "code",
   "execution_count": 30,
   "id": "f9aa6e1a",
   "metadata": {},
   "outputs": [],
   "source": [
    "def gradientJ(z):\n",
    "    U,V = SOL_PDE_UV(z)\n",
    "    P,Q = SOL_PDE_PQ(z)\n",
    "    \n",
    "    N = len(U)\n",
    "    barU = np.array(U)\n",
    "    barV = np.array(V)\n",
    "    barP = np.array(P)\n",
    "    barQ = np.array(Q)\n",
    "    \n",
    "    gradient_b = -1/N* sum(barV*barQ)\n",
    "    gradient_c = -1/N* sum(barV*barP)\n",
    "    gradient = np.array([gradient_b,gradient_c],dtype = np.float64)\n",
    "    return gradient"
   ]
  },
  {
   "cell_type": "code",
   "execution_count": 37,
   "id": "1eff0549",
   "metadata": {},
   "outputs": [],
   "source": [
    "def GD(gradientJ, z0, eta = 0.1):\n",
    "    z = [z0]\n",
    "    z_new = z[-1] - eta*gradientJ(z[-1])\n",
    "    z.append(z_new)\n",
    "    for it in range(50):\n",
    "        z_new = z[-1] - eta*gradientJ(z[-1])\n",
    "        norm2 = sum(z_new*z_new)\n",
    "        if math.sqrt(norm2) < 1e-4:\n",
    "            break\n",
    "        z.append(z_new)\n",
    "    return z[-1]"
   ]
  },
  {
   "cell_type": "code",
   "execution_count": 39,
   "id": "f112a88c",
   "metadata": {},
   "outputs": [
    {
     "data": {
      "text/plain": [
       "array([0.99718137, 0.98783732])"
      ]
     },
     "execution_count": 39,
     "metadata": {},
     "output_type": "execute_result"
    }
   ],
   "source": [
    "GD(gradientJ, np.array([0.98,0.98]), eta = 0.1)"
   ]
  },
  {
   "cell_type": "code",
   "execution_count": null,
   "id": "3dd23a81",
   "metadata": {},
   "outputs": [],
   "source": []
  }
 ],
 "metadata": {
  "kernelspec": {
   "display_name": "Python 3",
   "language": "python",
   "name": "python3"
  },
  "language_info": {
   "codemirror_mode": {
    "name": "ipython",
    "version": 3
   },
   "file_extension": ".py",
   "mimetype": "text/x-python",
   "name": "python",
   "nbconvert_exporter": "python",
   "pygments_lexer": "ipython3",
   "version": "3.9.4"
  }
 },
 "nbformat": 4,
 "nbformat_minor": 5
}
